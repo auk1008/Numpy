{
 "cells": [
  {
   "cell_type": "code",
   "execution_count": null,
   "id": "d906e3d3-c8fb-4875-8ffe-373361f9d3c7",
   "metadata": {},
   "outputs": [],
   "source": [
    "# # VIEWS VS COPY\n",
    "\n",
    "import numpy as np"
   ]
  },
  {
   "cell_type": "code",
   "execution_count": null,
   "id": "fcdc41d9-dacf-4f02-9ff6-567fcd7c816e",
   "metadata": {},
   "outputs": [],
   "source": [
    "# Creating a copy of the original array\n",
    "\n",
    "arr = np.array([1, 3, 4, 5])\n",
    "new_arr = arr.copy()\n",
    "\n",
    "arr[0] = 42\n",
    "\n",
    "print (arr)\n",
    "print (new_arr)"
   ]
  },
  {
   "cell_type": "code",
   "execution_count": null,
   "id": "2582b749-0f6d-4e23-b742-0cb075d23695",
   "metadata": {},
   "outputs": [],
   "source": [
    "# Creating a view \n",
    "\n",
    "arr = np.array([1, 2, 3, 4, 5])\n",
    "new_arr = arr.view()\n",
    "\n",
    "new_arr[0] = 1000\n",
    "arr[1] = 2000\n",
    "\n",
    "# Both arrays will be affected by the changes.\n",
    "\n",
    "print(arr)\n",
    "print(new_arr)"
   ]
  },
  {
   "cell_type": "code",
   "execution_count": null,
   "id": "84fa7338-11ac-410e-af5c-08ed536b9888",
   "metadata": {},
   "outputs": [],
   "source": [
    "\n",
    "# Check data owning \n",
    "\n",
    "arr = np.array([1, 2, 3, 4, 5])\n",
    "\n",
    "x = arr.copy()\n",
    "y = arr.view()\n",
    "\n",
    "print (x.base)  # Base is None\n",
    "print (y.base)  # Base is some other object\n"
   ]
  },
  {
   "cell_type": "code",
   "execution_count": null,
   "id": "b97e610e-1f5d-4fef-9c78-0b573e989dbb",
   "metadata": {},
   "outputs": [],
   "source": [
    "# Reshaping and checking if it is view or copy ? \n",
    "\n",
    "arr = np.arange(1, 13)\n",
    "print (arr) \n",
    "\n",
    "print (arr.reshape(3, 4).base) # It is a view because it refers to original array"
   ]
  },
  {
   "cell_type": "code",
   "execution_count": null,
   "id": "a6871573-d93c-45f6-8400-3b9bc81a97d8",
   "metadata": {},
   "outputs": [],
   "source": [
    "# UNknown Dimension\n",
    "\n",
    "import numpy as np\n",
    "\n",
    "arr = np.array([1, 2, 3, 4, 5, 6, 7, 8, 9, 10, 11, 12])\n",
    "\n",
    "newarr = arr.reshape(2, 2, -1) \n",
    "\n",
    "print(newarr)\n",
    "\n"
   ]
  },
  {
   "cell_type": "code",
   "execution_count": null,
   "id": "0db1eff9-827e-4789-868e-f625937f3fcd",
   "metadata": {},
   "outputs": [],
   "source": [
    "# Flattening the arrays\n",
    "\n",
    "arr = np.array([\n",
    "    [1, 2, 3], \n",
    "    [4, 5, 6], \n",
    "    [7, 8, 9]\n",
    "])\n",
    "\n",
    "\n",
    "# print (arr.flatten())\n",
    "\n",
    "new_arr = arr.reshape(-1)\n",
    "print (new_arr)\n",
    "print (new_arr.base)\n",
    "\n",
    "new_arr[3] = 1000\n",
    "\n",
    "print (new_arr)\n",
    "print (arr)\n"
   ]
  }
 ],
 "metadata": {
  "kernelspec": {
   "display_name": "base",
   "language": "python",
   "name": "python3"
  },
  "language_info": {
   "codemirror_mode": {
    "name": "ipython",
    "version": 3
   },
   "file_extension": ".py",
   "mimetype": "text/x-python",
   "name": "python",
   "nbconvert_exporter": "python",
   "pygments_lexer": "ipython3",
   "version": "3.13.5"
  }
 },
 "nbformat": 4,
 "nbformat_minor": 5
}
