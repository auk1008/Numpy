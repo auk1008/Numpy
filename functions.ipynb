{
 "cells": [
  {
   "cell_type": "markdown",
   "id": "42294769",
   "metadata": {},
   "source": [
    "## Sorting"
   ]
  },
  {
   "cell_type": "code",
   "execution_count": 3,
   "id": "1571633a",
   "metadata": {},
   "outputs": [],
   "source": [
    "import numpy as np"
   ]
  },
  {
   "cell_type": "code",
   "execution_count": 34,
   "id": "78e1fe83",
   "metadata": {},
   "outputs": [
    {
     "name": "stdout",
     "output_type": "stream",
     "text": [
      "<class 'numpy.ndarray'>\n",
      "[-1  0  1  5  7]\n",
      "True\n"
     ]
    }
   ],
   "source": [
    "unsorted = np.array(\n",
    "   [5, 7, 1, 0, -1]\n",
    ")\n",
    "\n",
    "x = unsorted\n",
    "\n",
    "print (type (np.sort(unsorted))) # numpy.ndarray\n",
    "# print (np.sort(unsorted)) \n",
    "\n",
    "unsorted.sort()\n",
    "print (unsorted)\n",
    "\n",
    "print (np.may_share_memory(x, unsorted))\n"
   ]
  },
  {
   "cell_type": "code",
   "execution_count": 45,
   "id": "db54618d",
   "metadata": {},
   "outputs": [
    {
     "data": {
      "text/plain": [
       "array([[  4,  63,   0,   5,  51],\n",
       "       [ 54,  64,  10,   9, 100]])"
      ]
     },
     "execution_count": 45,
     "metadata": {},
     "output_type": "execute_result"
    }
   ],
   "source": [
    "# Sorting a 2d array\n",
    "\n",
    "unsorted_2d_array = np.array ([\n",
    "   [4, 64, 0, 5, 100], \n",
    "   [54, 63, 10, 9, 51]\n",
    "])\n",
    "\n",
    "\n",
    "np.sort (unsorted_2d_array, axis=0)"
   ]
  },
  {
   "cell_type": "markdown",
   "id": "75b0d38e",
   "metadata": {},
   "source": [
    "## Filter"
   ]
  },
  {
   "cell_type": "code",
   "execution_count": null,
   "id": "4554d4b2",
   "metadata": {},
   "outputs": [
    {
     "name": "stdout",
     "output_type": "stream",
     "text": [
      "[41 43]\n"
     ]
    }
   ],
   "source": [
    "arr = np.array([41, 42, 43, 44])\n",
    "\n",
    "# boolean index list \n",
    "# A boolean index list is a list of booleans corresponding to indexes in the array.\n",
    "\n",
    "\n",
    "x = [True, False, True, False]\n",
    "\n",
    "new_arr = arr[x]\n",
    "\n",
    "print (new_arr)"
   ]
  },
  {
   "cell_type": "code",
   "execution_count": 67,
   "id": "9b91f631",
   "metadata": {},
   "outputs": [
    {
     "name": "stdout",
     "output_type": "stream",
     "text": [
      "[2 4 6 8]\n"
     ]
    }
   ],
   "source": [
    "arr = np.array ([2, 3, 4, 5, 6, 7, 8, 9])\n",
    "\n",
    "filtered = []\n",
    "\n",
    "for i in arr: \n",
    "   if i % 2 == 0: \n",
    "      filtered.append(True)\n",
    "   else: \n",
    "      filtered.append(False)\n",
    "   \n",
    "even_nums = arr[filtered]\n",
    "\n",
    "\n",
    "print (even_nums)"
   ]
  },
  {
   "cell_type": "code",
   "execution_count": null,
   "id": "db3b87fd",
   "metadata": {},
   "outputs": [
    {
     "name": "stdout",
     "output_type": "stream",
     "text": [
      "[2 4 6 8]\n",
      "[2 3 4 5 6 7 8 9]\n",
      "[False  True False  True False  True False  True]\n",
      "[3 5 7 9]\n"
     ]
    }
   ],
   "source": [
    "# Shorthand \n",
    "\n",
    "filtered = arr % 2 == 0 \n",
    "new_arr = arr[filtered]\n",
    "print (new_arr)\n",
    "\n",
    "# OR \n",
    "\n",
    "\n",
    "print (arr % 2 == 1) # returns a list of boolean: boolean index list\n",
    "print (arr[arr % 2 == 1]) # odd numbers"
   ]
  },
  {
   "cell_type": "code",
   "execution_count": null,
   "id": "6f994671",
   "metadata": {},
   "outputs": [
    {
     "name": "stdout",
     "output_type": "stream",
     "text": [
      "['a' 'b']\n",
      "['a' 'b' 'c']\n"
     ]
    }
   ],
   "source": [
    "# Another simple example \n",
    "alphabets = np.array (['a', 'b', 'c'])\n",
    "\n",
    "x = alphabets[[True, True, False]]\n",
    "\n",
    "print (x)\n",
    "# print (alphabets)"
   ]
  }
 ],
 "metadata": {
  "kernelspec": {
   "display_name": "base",
   "language": "python",
   "name": "python3"
  },
  "language_info": {
   "codemirror_mode": {
    "name": "ipython",
    "version": 3
   },
   "file_extension": ".py",
   "mimetype": "text/x-python",
   "name": "python",
   "nbconvert_exporter": "python",
   "pygments_lexer": "ipython3",
   "version": "3.13.5"
  }
 },
 "nbformat": 4,
 "nbformat_minor": 5
}
