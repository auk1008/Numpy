{
 "cells": [
  {
   "cell_type": "markdown",
   "id": "c6fed8c0",
   "metadata": {},
   "source": [
    "## Join / Concatenation Operations / Axis"
   ]
  },
  {
   "cell_type": "code",
   "execution_count": 2,
   "id": "6fcb02c6",
   "metadata": {},
   "outputs": [],
   "source": [
    "import numpy as np"
   ]
  },
  {
   "cell_type": "code",
   "execution_count": null,
   "id": "fa843119",
   "metadata": {},
   "outputs": [
    {
     "name": "stdout",
     "output_type": "stream",
     "text": [
      "[1 3 4 5 6 3 4 5 6 7]\n",
      "With axis=0: [1 3 4 5 6 3 4 5 6 7]\n"
     ]
    }
   ],
   "source": [
    "# concatenate two arrays\n",
    "arr1 = np.array([1, 3, 4, 5, 6])\n",
    "arr2 = np.array([3, 4, 5, 6, 7])\n",
    "\n",
    "# Correct way: pass arrays as a tuple or list\n",
    "arr = np.concatenate((arr1, arr2))  # Using tuple\n",
    "# OR\n",
    "# arr = np.concatenate([arr1, arr2])  # Using list\n",
    "\n",
    "print(arr)\n",
    "# Output: [1 3 4 5 6 3 4 5 6 7]\n",
    "\n",
    "# You can also specify the axis explicitly (default is 0 for 1D arrays)\n",
    "arr_axis0 = np.concatenate((arr1, arr2), axis=0)\n",
    "print(\"With axis=0:\", arr_axis0)"
   ]
  },
  {
   "cell_type": "code",
   "execution_count": 51,
   "id": "6a3ad87e",
   "metadata": {},
   "outputs": [
    {
     "name": "stdout",
     "output_type": "stream",
     "text": [
      "[[ 1  2  3  7  8  9]\n",
      " [ 4  5  6 10 11 12]]\n",
      "[[ 1  2  3]\n",
      " [ 4  5  6]\n",
      " [ 7  8  9]\n",
      " [10 11 12]]\n"
     ]
    }
   ],
   "source": [
    "# 2D arrays concatenation along axis 0 and 1\n",
    "\n",
    "arr1 = np.array([\n",
    "   [1, 2, 3], \n",
    "   [4, 5, 6]\n",
    "])\n",
    "\n",
    "arr2 = np.array([\n",
    "   [7, 8, 9], \n",
    "   [10, 11, 12]\n",
    "])\n",
    "\n",
    "print (np.concatenate((arr1, arr2), axis=1)) # concatenate the rows \n",
    "print (np.concatenate((arr1, arr2), axis=0)) # concatenate the columns \n",
    "# print (arr)"
   ]
  },
  {
   "cell_type": "code",
   "execution_count": 54,
   "id": "b42feb6e",
   "metadata": {},
   "outputs": [
    {
     "name": "stdout",
     "output_type": "stream",
     "text": [
      "[3 5 7]\n",
      "[ 3 12]\n"
     ]
    }
   ],
   "source": [
    "# Axes \n",
    "\n",
    "np_array_2d = np.arange(0, 6).reshape([2, 3])\n",
    "\n",
    "# print (np_array_2d)\n",
    "\n",
    "# Sum along x-axis\n",
    "\n",
    "\"\"\"\n",
    "   [\n",
    "      [0 , 1 , 2], \n",
    "      [3 , 4 , 5]\n",
    "   ]\n",
    "\"\"\"\n",
    "\n",
    "\n",
    "print(np.sum(np_array_2d, axis=0))  # Sum along columns\n",
    "print(np.sum(np_array_2d, axis=1))  # Sum along rows"
   ]
  },
  {
   "cell_type": "code",
   "execution_count": null,
   "id": "4067db3e",
   "metadata": {},
   "outputs": [],
   "source": [
    "# Example:\n",
    "\n",
    "np_array_1s = np.array([\n",
    "   [1,1,1],\n",
    "   [1,1,1]\n",
    "])\n",
    "\n",
    "\n",
    "np_array_9s = np.array([\n",
    "   [9,9,9],\n",
    "   [9,9,9]\n",
    "])\n",
    "\n",
    "print (np.concatenate ([np_array_1s, np_array_9s] , axis=0))\n",
    "print (np.concatenate ((np_array_1s, np_array_9s) , axis=1))"
   ]
  },
  {
   "cell_type": "code",
   "execution_count": null,
   "id": "85aca19a",
   "metadata": {},
   "outputs": [],
   "source": [
    "zeros = np.zeros(5)\n",
    "ones = np.ones(5)\n",
    "\n",
    "print (np.concatenate([zeros, ones], axis=0))\n",
    "# The issue is that in 1-d arrays, axis 0 doesn't point “downward” like it does in a 2-dimensional array."
   ]
  },
  {
   "cell_type": "code",
   "execution_count": null,
   "id": "e0f0b8d3",
   "metadata": {},
   "outputs": [
    {
     "name": "stdout",
     "output_type": "stream",
     "text": [
      "[[[1 4]\n",
      "  [2 5]\n",
      "  [3 6]]]\n"
     ]
    }
   ],
   "source": [
    "# # Stacking: Horizontal, Vertical, Height/Depth\n",
    "\n",
    "# # stacking is done along a new axis \n",
    "\n",
    "arr1 = np.array ([1, 2, 3])\n",
    "arr2 = np.array ([4, 5, 6])\n",
    "\n",
    "# arr = np.stack ((arr1, arr2), axis=0)\n",
    "\n",
    "arr = np.hstack((arr1, arr2))\n",
    "# arr = np.vstack((arr1, arr2))\n",
    "# arr = np.dstack((arr1, arr2))\n",
    "print (arr)\n"
   ]
  }
 ],
 "metadata": {
  "kernelspec": {
   "display_name": "base",
   "language": "python",
   "name": "python3"
  },
  "language_info": {
   "codemirror_mode": {
    "name": "ipython",
    "version": 3
   },
   "file_extension": ".py",
   "mimetype": "text/x-python",
   "name": "python",
   "nbconvert_exporter": "python",
   "pygments_lexer": "ipython3",
   "version": "3.13.5"
  }
 },
 "nbformat": 4,
 "nbformat_minor": 5
}
